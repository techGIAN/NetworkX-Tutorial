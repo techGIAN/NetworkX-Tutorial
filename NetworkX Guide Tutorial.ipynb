{
 "cells": [
  {
   "cell_type": "markdown",
   "metadata": {},
   "source": [
    "# NetworkX\n",
    "#### Network Analysis in Python\n",
    "\n",
    "This notebook provides a general introduction to NetworkX, a Python package for the creation, manipulation, and study of the structure, dynamics, and functions of complex graphs and networks.\n",
    "\n",
    "**Source:** Visit [networkx.org](networkx.org) for more info.\n",
    "**Current Version:** ```v3.1```\n",
    "\n",
    "**Notes:**\n",
    "* We will be using this current version ```v3.1``` throughout this tutorial.\n",
    "* Click [here](https://networkx.org/documentation/stable/) for a documentation of this version.\n",
    "* Note that there will be some slight differences depending on the NetworkX version you are using so it is important to know which current version you are using to know the suitable documentation.\n",
    "\n",
    "## Installation\n",
    "\n",
    "One can install NetworkX manually from [https://pypi.python.org/pypi/networkx](https://pypi.python.org/pypi/networkx). Other ways to install include:\n",
    "\n",
    "```$ pip install networkx```"
   ]
  },
  {
   "cell_type": "markdown",
   "metadata": {},
   "source": [
    "## Basic Example\n",
    "\n",
    "Once installed, import ```networkx``` as follows:"
   ]
  },
  {
   "cell_type": "code",
   "execution_count": 1,
   "metadata": {},
   "outputs": [],
   "source": [
    "import networkx as nx"
   ]
  },
  {
   "cell_type": "markdown",
   "metadata": {},
   "source": [
    "And then we can proceed with a basic example of its usage. "
   ]
  },
  {
   "cell_type": "code",
   "execution_count": 2,
   "metadata": {},
   "outputs": [
    {
     "name": "stdout",
     "output_type": "stream",
     "text": [
      "['donut', 3, 4]\n",
      "[(3, 4)]\n"
     ]
    }
   ],
   "source": [
    "G = nx.Graph()      # creates a graph\n",
    "G.add_node('donut') # creates a new node in the graph called 'donut'\n",
    "G.add_edge(3,4)     # creates an edge in the graph (3,4) while simultaneously creating these new nodes\n",
    "print(G.nodes())    # prints list of nodes in G\n",
    "print(G.edges())    # prints list of edges in G"
   ]
  },
  {
   "cell_type": "markdown",
   "metadata": {},
   "source": [
    "## Graph Types\n",
    "\n",
    "* **Graph:** undirected simple (allows self-loops)\n",
    "* **DiGraph:** directed simple (allows self-loops)\n",
    "* **MultiGraph:** undirected with parallel edges\n",
    "* **MultiDiGraph:** directed with parallel edges\n",
    "\n",
    "**Note:** Directed graphs can be converted to undirected using ```G.to_undirected()``` while undirected graphs can be converted to directed using ```G.to_directed()```"
   ]
  },
  {
   "cell_type": "code",
   "execution_count": 3,
   "metadata": {},
   "outputs": [],
   "source": [
    "g = nx.Graph()\n",
    "d = nx.Graph()\n",
    "m = nx.Graph()\n",
    "h = nx.MultiDiGraph()"
   ]
  },
  {
   "cell_type": "markdown",
   "metadata": {},
   "source": [
    "## Adding Nodes\n",
    "\n",
    "The method ```add_node()``` allows to add a single node given the argument. Meanwhile, ```add_nodes_from()``` allows to add all nodes given an ```iterable``` argument (e.g., lists, strings -- which are collection of single characters, etc.)"
   ]
  },
  {
   "cell_type": "code",
   "execution_count": 4,
   "metadata": {},
   "outputs": [
    {
     "name": "stdout",
     "output_type": "stream",
     "text": [
      "['m', 'n', 'p', 'a', 'b', 'c']\n",
      "[0, 1, 2, 3, 4]\n",
      "['m', 'n', 'p', 'a', 'b', 'c', 0, 1, 2, 3, 4]\n"
     ]
    }
   ],
   "source": [
    "G = nx.Graph()                  # creates a new graph G\n",
    "G.add_node('m')                 # creates new node 'm' in G\n",
    "G.add_nodes_from(['n','p'])     # creates new nodes from each item in the list and adds each to G\n",
    "G.add_nodes_from('abc')         # this time with string instead of list\n",
    "print(G.nodes())                # check nodes, we should have ['m', 'n', 'p', 'a', 'b', 'c']\n",
    "\n",
    "G2 = nx.path_graph(5)           # creates path graph consisting of nodes [0, 1, 2, 3, 4]\n",
    "print(G2.nodes()) \n",
    "G.add_nodes_from(G2)            # adds all nodes of G2 to nodes of G\n",
    "print(G.nodes())                # check nodes, we should have ['m', 'n', 'p', 'a', 'b', 'c', 0, 1, 2, 3, 4]"
   ]
  },
  {
   "cell_type": "markdown",
   "metadata": {},
   "source": [
    "## Adding Edges\n",
    "\n",
    "Methods ```add_edge``` and ```add_edges_from``` work like the methods for adding nodes. Note that by adding an edge consisting of a non-existing node in the graph, then the node will automatically be created."
   ]
  },
  {
   "cell_type": "code",
   "execution_count": 5,
   "metadata": {},
   "outputs": [
    {
     "name": "stdout",
     "output_type": "stream",
     "text": [
      "[('w', 'x'), ('w', 'y'), ('x', 'y')]\n",
      "[('w', 'x'), ('w', 'y'), ('w', 'z'), ('x', 'y'), ('x', 'z'), ('y', 'z')]\n"
     ]
    }
   ],
   "source": [
    "# create a graph consisting of a list of 2-tuples\n",
    "# each pair will serve as an edge\n",
    "G = nx.Graph([('w', 'x'), ('x', 'y'), ('y', 'w')])\n",
    "print(G.edges())\n",
    "\n",
    "# adds edge ('w', 'z')\n",
    "# but notice that 'z' is a non-existing node in G, so it automatically creates node 'z'\n",
    "G.add_edge('w', 'z')\n",
    "G.add_edges_from([('z', 'y'), ('z', 'x')])            # adds each edge in the list into G\n",
    "print(G.edges())                                      # [('w', 'x'), ('w', 'y'), ('w', 'z'), ('x', 'y'), ('x', 'z'), ('y', 'z')]"
   ]
  },
  {
   "cell_type": "code",
   "execution_count": 6,
   "metadata": {},
   "outputs": [
    {
     "name": "stdout",
     "output_type": "stream",
     "text": [
      "[('w', 'z'), ('z', 'y'), ('z', 'x')]\n"
     ]
    }
   ],
   "source": [
    "g.add_edge('w', 'z')\n",
    "g.add_edges_from([('z', 'y'), ('z', 'x')])\n",
    "print(g.edges())"
   ]
  },
  {
   "cell_type": "markdown",
   "metadata": {},
   "source": [
    "## Node Attributes\n",
    "\n",
    "Each node can have an attribute that you can assign. Then you are also able to easily access them through ```G.nodes[]```."
   ]
  },
  {
   "cell_type": "code",
   "execution_count": 7,
   "metadata": {},
   "outputs": [
    {
     "name": "stdout",
     "output_type": "stream",
     "text": [
      "{'color': 'green'}\n",
      "green\n",
      "red\n",
      "red\n"
     ]
    }
   ],
   "source": [
    "G = nx.Graph()\n",
    "G.add_node(1, color='green')               # create new node in G called 1 and give it a color attribute called 'green'\n",
    "G.add_nodes_from([2,3], color='red')       # create new nodes called 2 and 3 and give both of them the same color attribute called 'red'\n",
    "print(G.nodes[1])                          # G.nodes[] will return a dictionary where each key is the attribute name and the value is the attribute value for the node\n",
    "print(G.nodes[1]['color'])                 # since G.nodes[1] returns a dict, then this returns the color attribute of node 1\n",
    "print(G.nodes[2]['color'])\n",
    "print(G.nodes[3]['color'])"
   ]
  },
  {
   "cell_type": "markdown",
   "metadata": {},
   "source": [
    "Use ```nx.set_node_attributes``` to add more attributes (and values) down the line. Note that you can also modify the existing attribute value if you wish."
   ]
  },
  {
   "cell_type": "code",
   "execution_count": 8,
   "metadata": {},
   "outputs": [
    {
     "name": "stdout",
     "output_type": "stream",
     "text": [
      "{'color': 'green', 'weight': 0.5}\n",
      "{'color': 'red', 'weight': 0.5}\n",
      "{'color': 'blue', 'weight': 0.5}\n"
     ]
    }
   ],
   "source": [
    "# you can continue to add attributes and values later on or even modify their previous value\n",
    "G.nodes[3]['color'] = 'blue'\n",
    "nx.set_node_attributes(G, 0.5, 'weight')  \n",
    "print(G.nodes[1])\n",
    "print(G.nodes[2])\n",
    "print(G.nodes[3])"
   ]
  },
  {
   "cell_type": "code",
   "execution_count": 9,
   "metadata": {},
   "outputs": [
    {
     "name": "stdout",
     "output_type": "stream",
     "text": [
      "{'color': 'green', 'weight': 0.5, 'label': 1}\n",
      "{'color': 'red', 'weight': 0.5, 'label': 2}\n",
      "{'color': 'blue', 'weight': 0.5, 'label': 3}\n"
     ]
    }
   ],
   "source": [
    "# here, you can also use a dict to specify the attributes\n",
    "label_dict = dict(zip(range(1,4), range(1,4)))               # creates a dict {1:1, 2:2, 3:3}\n",
    "nx.set_node_attributes(G, label_dict, 'label') \n",
    "print(G.nodes[1])\n",
    "print(G.nodes[2])\n",
    "print(G.nodes[3])"
   ]
  },
  {
   "cell_type": "markdown",
   "metadata": {},
   "source": [
    "## Edge Attributes\n",
    "\n",
    "As in node attributes, one can add attributes to edges."
   ]
  },
  {
   "cell_type": "code",
   "execution_count": 13,
   "metadata": {},
   "outputs": [
    {
     "name": "stdout",
     "output_type": "stream",
     "text": [
      "{'thickness': 1.5}\n",
      "{'thickness': 2.0}\n",
      "{'thickness': 2.0}\n",
      "{'thickness': 1.5}\n"
     ]
    }
   ],
   "source": [
    "G.add_edge(1, 2, thickness=1.5)\n",
    "G.add_edges_from([(2,3), (3,4)], thickness=2.0) # attribute applies to each edge in the list\n",
    "print(G.edges[1,2])\n",
    "print(G.edges[2,3])\n",
    "print(G.edges[3,4])\n",
    "# print(G.edges[1,3])                           # does not work since edge (1,3) does not work\n",
    "print(G.edges[2,1])                             # G is not directed so this is commutative"
   ]
  },
  {
   "cell_type": "code",
   "execution_count": 15,
   "metadata": {},
   "outputs": [],
   "source": [
    "G.add_edges_from([(1,2,{'size':15})])           # add a third argument (dict) to specify an edge attribute and its value\n",
    "G.add_weighted_edges_from([(10,20,4.9)])        # adds third value in tuple as 'weight' attribute"
   ]
  },
  {
   "cell_type": "code",
   "execution_count": 16,
   "metadata": {},
   "outputs": [
    {
     "name": "stdout",
     "output_type": "stream",
     "text": [
      "edge (1, 2): {'thickness': 1.5, 'size': 15}\n",
      "edge (2, 3): {'thickness': 2.0}\n",
      "edge (3, 4): {'thickness': 2.0}\n",
      "edge (10, 20): {'weight': 4.9}\n"
     ]
    }
   ],
   "source": [
    "# print each edge of G and their attributes\n",
    "for e1, e2 in G.edges():\n",
    "\tprint('edge (' + str(e1) + ', ' + str(e2) + '): ' + str(G.edges[e1, e2]))"
   ]
  },
  {
   "cell_type": "markdown",
   "metadata": {},
   "source": [
    "Another way to display edge attributes, aside from the ```G.edges[]``` is using ```G.get_edge_data()```."
   ]
  },
  {
   "cell_type": "code",
   "execution_count": 17,
   "metadata": {},
   "outputs": [
    {
     "data": {
      "text/plain": [
       "{'thickness': 1.5, 'size': 15}"
      ]
     },
     "execution_count": 17,
     "metadata": {},
     "output_type": "execute_result"
    }
   ],
   "source": [
    "G.get_edge_data(1,2)"
   ]
  },
  {
   "cell_type": "markdown",
   "metadata": {},
   "source": [
    "## Graph Properties\n",
    "\n",
    "Here are some simple properties:\n",
    "* The number of nodes in a graph can be accessed using ```len()```, ```number_of_nodes()``` or ```order()```.\n",
    "* The number of edges can be accessed using ```number_of_edges()```.\n",
    "* Use ```has_node()``` to check if a graph consists the specified node.\n",
    "* Use ```has_edge()``` to check if a graph consists the specified edge."
   ]
  },
  {
   "cell_type": "code",
   "execution_count": 18,
   "metadata": {},
   "outputs": [
    {
     "name": "stdout",
     "output_type": "stream",
     "text": [
      "The number of nodes in G:\n",
      "6\n",
      "6\n",
      "6\n",
      "The number of edges in G:\n",
      "4\n",
      "Check node membership in G:\n",
      "True\n",
      "Check edge presence in G:\n",
      "True\n"
     ]
    }
   ],
   "source": [
    "# number of nodes\n",
    "print('The number of nodes in G:')\n",
    "print(len(G))\n",
    "print(G.number_of_nodes())\n",
    "print(G.order())\n",
    "\n",
    "# number of edges\n",
    "print('The number of edges in G:')\n",
    "print(G.number_of_edges())\n",
    "\n",
    "# node membership\n",
    "print('Check node membership in G:')\n",
    "print(G.has_node(1))\n",
    "\n",
    "# edge presence\n",
    "print('Check edge presence in G:')\n",
    "print(G.has_edge(1, 2))"
   ]
  },
  {
   "cell_type": "markdown",
   "metadata": {},
   "source": [
    "## Node Neighbors\n",
    "\n",
    "Use list comprehension to list all the neighbors of a node."
   ]
  },
  {
   "cell_type": "code",
   "execution_count": 19,
   "metadata": {},
   "outputs": [
    {
     "name": "stdout",
     "output_type": "stream",
     "text": [
      "[(0, 1), (1, 2), (2, 3)]\n",
      "[(0, {1: {}}), (1, {0: {}, 2: {}}), (2, {1: {}, 3: {}}), (3, {2: {}})]\n"
     ]
    }
   ],
   "source": [
    "G = nx.path_graph(4)              # new Graph (path graph)\n",
    "print([e for e in G.edges()])     # use list comprehension to list all edges:\n",
    "print([(n, nbrs) for n,nbrs in G.adjacency()])     # adjacency list"
   ]
  },
  {
   "cell_type": "markdown",
   "metadata": {},
   "source": [
    "## Node Degrees\n",
    "\n",
    "A node ```v```'s degree describes the number of nodes in the graph connected to ```v```. We use the ```degree()``` method.\n",
    "\n",
    "**Note:** For directed graphs, we make a distinction between *indegree* and *outdegree*."
   ]
  },
  {
   "cell_type": "code",
   "execution_count": 20,
   "metadata": {},
   "outputs": [
    {
     "name": "stdout",
     "output_type": "stream",
     "text": [
      "1\n",
      "[(0, 1), (1, 2), (2, 2), (3, 1)]\n",
      "[1, 2, 2, 1]\n"
     ]
    }
   ],
   "source": [
    "print(G.degree(0))                    # return the degree of node 0\n",
    "print(G.degree())                     # return a list of (node, degree) pairs\n",
    "print([x[1] for x in G.degree()])     # using list comprehension to for degree distribution"
   ]
  },
  {
   "cell_type": "markdown",
   "metadata": {},
   "source": [
    "## Graph Generators\n",
    "\n",
    "Here are some examples of creating a complete graph, a path graph and a bipartite graph."
   ]
  },
  {
   "cell_type": "code",
   "execution_count": 21,
   "metadata": {},
   "outputs": [],
   "source": [
    "CG = nx.complete_graph(5) # complete graph\n",
    "PG = nx.path_graph(5) # path graph or chain graph\n",
    "\n",
    "n1, n2 = 3,5\n",
    "BG = nx.complete_bipartite_graph(n1, n2) # bipartite graph"
   ]
  },
  {
   "cell_type": "markdown",
   "metadata": {},
   "source": [
    "The following graph generators are specifically for random graphs. Consult the [API](https://networkx.org/documentation/stable/reference/generators.html) for more info about these generators."
   ]
  },
  {
   "cell_type": "code",
   "execution_count": null,
   "metadata": {},
   "outputs": [],
   "source": [
    "# random graph\n",
    "G1 = nx.erdos_renyi_graph(n, p)        # n nodes; p = prob for creating an edge; runs in O(n^2)\n",
    "G2 = nx.fast_gnp_random_graph(n, p)    # much faster; runs in O(n+E(n)); faster than G1 with small p and small E(n); expect sparse graph\n",
    "\n",
    "# small world graph \n",
    "G3 = nx.watts_strogatz_graph(n, k, p)  # n nodes, p prob to rewire, Each node is joined with its k nearest neighbors in a ring topology.\n",
    "\n",
    "# preferential attachment\n",
    "G4 = nx.barabasi_albert_graph(n, m)    # n nodes, m Number of edges to attach from a new node to existing nodes"
   ]
  },
  {
   "cell_type": "markdown",
   "metadata": {},
   "source": [
    "## Other Useful Functions\n",
    "\n",
    "* **Shortest path** - the path between two connected nodes ```x``` and ```y``` that is the shortest among all possible paths. (```nx.shortest_path()```)\n",
    "* **Betweenness centrality** - Betweenness centrality of a node ```v``` is the sum of the fraction of all-pairs shortest paths that pass through ```v``` (```nx.betweenness_centrality()```)\n",
    "* **Average clustering** - the average clustering coefficient of all nodes in a graph. Note that the *clustering coefficient* of a node ```v``` is the portion of ```v```’s neighbors that are connected? (```nx.average_clustering()```)\n",
    "* **Diameter** - the length of the shortest path between the most distanced nodes (```nx.diameter()```)"
   ]
  },
  {
   "cell_type": "code",
   "execution_count": 22,
   "metadata": {},
   "outputs": [
    {
     "name": "stdout",
     "output_type": "stream",
     "text": [
      "Shortest path:\n",
      "[0, 5, 4]\n",
      "Betweenness Centrality:\n",
      "{0: 0.15000000000000002, 1: 0.1, 2: 0.15000000000000002, 3: 0.25, 4: 0.0, 5: 0.25}\n",
      "Average Clustering:\n",
      "0.27777777777777773\n",
      "Diameter:\n",
      "3\n"
     ]
    }
   ],
   "source": [
    "g = nx.Graph([(0,1), (1,2), (2,3), (3, 4), (4,5), (5,3), (5,0)])\n",
    "\n",
    "print('Shortest path:')\n",
    "print(nx.shortest_path(g, 0, 4))\n",
    "\n",
    "print('Betweenness Centrality:')\n",
    "print(nx.betweenness_centrality(g))\n",
    "\n",
    "print('Average Clustering:')\n",
    "print(nx.average_clustering(g))\n",
    "\n",
    "print('Diameter:')\n",
    "print(nx.diameter(g))"
   ]
  },
  {
   "cell_type": "markdown",
   "metadata": {},
   "source": [
    "## Visual Representation\n",
    "\n",
    "* Use ```matplotlib``` module to draw (plot) graphs (note that visual representation is not unique!)\n",
    "* Use ```plt.savefig()``` to save the figure onto a file."
   ]
  },
  {
   "cell_type": "code",
   "execution_count": 23,
   "metadata": {},
   "outputs": [
    {
     "data": {
      "image/png": "[encoded data removed]",
      "text/plain": [
       "<Figure size 432x288 with 1 Axes>"
      ]
     },
     "metadata": {},
     "output_type": "display_data"
    }
   ],
   "source": [
    "import matplotlib.pyplot as plt\n",
    "\n",
    "G = nx.path_graph(10)\n",
    "nx.draw(G)\n",
    "# plt.savefig('chain_graph.pdf')\n",
    "plt.show()"
   ]
  },
  {
   "cell_type": "markdown",
   "metadata": {},
   "source": [
    "## Resources\n",
    "\n",
    "* NetworkX Docs: Click [here](https://networkx.org/documentation/stable/reference/index.html) for the docs\n",
    "* NetworkX Tutorial: Click [here](https://networkx.org/documentation/stable/tutorial.html) for some more NetworkX tutorial"
   ]
  }
 ],
 "metadata": {
  "kernelspec": {
   "display_name": "Python 3",
   "language": "python",
   "name": "python3"
  },
  "language_info": {
   "codemirror_mode": {
    "name": "ipython",
    "version": 3
   },
   "file_extension": ".py",
   "mimetype": "text/x-python",
   "name": "python",
   "nbconvert_exporter": "python",
   "pygments_lexer": "ipython3",
   "version": "3.9.0"
  }
 },
 "nbformat": 4,
 "nbformat_minor": 4
}
