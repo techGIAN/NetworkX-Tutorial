{
 "cells": [
  {
   "cell_type": "markdown",
   "metadata": {},
   "source": [
    "# Python\n",
    "\n",
    "This notebook provides a gentle introduction to Python.\n",
    "\n",
    "**Author**: Gian Alix, [gcalix@eecs.yorku.ca](gcalix@eecs.yorku.ca)"
   ]
  },
  {
   "cell_type": "markdown",
   "metadata": {},
   "source": [
    "## Why Python?\n",
    "\n",
    "* A scripting language\n",
    "* Easy to learn\n",
    "* Object-oriented\n",
    "* Numerous libraries, including tools for data analysis\n",
    "* Powerful and scalable; has supporting tools that handle massive datasets\n",
    "\n",
    "## Simple Printing\n",
    "\n",
    "Using the \"print\" function, and can handle a variety of data types (e.g., strings, numbers, booleans, etc.)."
   ]
  },
  {
   "cell_type": "code",
   "execution_count": 2,
   "metadata": {},
   "outputs": [
    {
     "name": "stdout",
     "output_type": "stream",
     "text": [
      "Hello World!\n",
      "10\n",
      "True\n"
     ]
    }
   ],
   "source": [
    "print('Hello World!')\n",
    "print(10)\n",
    "print(True)"
   ]
  },
  {
   "cell_type": "markdown",
   "metadata": {},
   "source": [
    "## Python Syntax\n",
    "\n",
    "* C-like\n",
    "* Some exceptions\n",
    "  * Missing operators: ++, --, etc.\n",
    "  * No { } in blocks; use whitespace and indentation\n",
    "  * Different keywords\n",
    "  * Type declarations not needed\n",
    "  * Other extra features!\n",
    "* Use ```#``` to write comments.\n",
    "  \n",
    "## Running a Python Script \n",
    "\n",
    "From the terminal, type in ```python [file_to_script].py``` (or in some cases, use ```python3``` instead of ```python``` to be more specific of the Python version). \n",
    "\n",
    "**Note**: If you intend on running a Python script from within a notebook (e.g., Jupyter, Colab, etc.), see [here](https://saturncloud.io/blog/how-to-execute-a-py-file-from-a-ipynb-file-on-the-jupyter-notebook/) for more details."
   ]
  },
  {
   "cell_type": "code",
   "execution_count": null,
   "metadata": {},
   "outputs": [],
   "source": [
    "python hello.py"
   ]
  },
  {
   "cell_type": "markdown",
   "metadata": {},
   "source": [
    "## Data Operators\n",
    "\n",
    "* Addition (```+```), Subtraction (```-```), Multiplication (```*```), Division (```/```), Integer Division (```//```), Modulus (```%```), Exponentiation (```**```)\n",
    "* Does not have an increment (```++```) and decrement (```--```) operator; try instead ```+= 1``` or ```-1```\n",
    "* Assignment (```=```)\n",
    "* Concatenation with strings (```+```)\n",
    "\n",
    "Here are some examples:"
   ]
  },
  {
   "cell_type": "code",
   "execution_count": 5,
   "metadata": {},
   "outputs": [
    {
     "name": "stdout",
     "output_type": "stream",
     "text": [
      "11\n",
      "2.0\n",
      "1\n",
      "8\n",
      "fooapple\n"
     ]
    }
   ],
   "source": [
    "# simple operators\n",
    "print(3 + 8) # outputs 11\n",
    "print(14 / 7) # outputs 2.0; can parse the result with int() if we want an int result instead of float\n",
    "\n",
    "# can perform complex operators in a single line, following correct order of operations\n",
    "print((10 % 3)**(2*100))\n",
    "\n",
    "# working with variables and assignments\n",
    "x = \"bar\"\n",
    "x = 7 # reassignment to a new type is allowed\n",
    "x += 1 # increment x by 1\n",
    "print(x) # prints 8\n",
    "\n",
    "# working with strings\n",
    "y = \"foo\"\n",
    "z = \"apple\"\n",
    "print(y + z) # concatenates y and z to return fooapple\n",
    "# print(x + z) # will not work because x is not a string, but z is (Python does not know if + here is addition or concatenation)"
   ]
  },
  {
   "cell_type": "markdown",
   "metadata": {},
   "source": [
    "## Data Types\n",
    "\n",
    "There are several data types in Python. Here are the most common ones.\n",
    "\n",
    "### 1. Simple Data Types\n",
    "\n",
    "* **Number** - could either be an ```int```, a ```float```, or even ```complex```\n",
    "* **Strings** - enclosed by quotation marks (characters are single-lengthed strings)\n",
    "* **Boolean** - a ```True``` or ```False```\n",
    "\n",
    "**Note**: You can parse from one type to another. For example, suppose ```b = True```. Parsing this into ```int``` gives: ```int(b)```, or ```1```. \n",
    "\n",
    "### 2. Lists\n",
    "\n",
    "* A collection of items consisting of one or multiple types of data\n",
    "* Zero-index based\n",
    "* Common operations:\n",
    "   * ```len()``` - number of elements in the list\n",
    "   * ```append()``` - add the argument at the end of the list\n",
    "   * ```pop()``` - removes (and returns) the element in the list which has an index equal to the argument; use the last item if there is no argument\n",
    "   * ```remove()``` - removes first instance of the specified item\n",
    "   * ```[]``` - accessing the element of a list; returns an ```OutOfBoundsException``` if the index specified is greater than or equal to the ```len()``` of the list\n",
    "   * ```+``` - list concatenation\n",
    "   \n",
    "Here are some examples."
   ]
  },
  {
   "cell_type": "code",
   "execution_count": 28,
   "metadata": {},
   "outputs": [
    {
     "name": "stdout",
     "output_type": "stream",
     "text": [
      "Part 1 ======================================\n",
      "[1, 2, 3, 4, 5]\n",
      "5\n",
      "2\n",
      "5\n",
      "4\n",
      "Part 2 ======================================\n",
      "[1, 2, 3, 4, 5, 'bar']\n",
      "6\n",
      "Part 3 ======================================\n",
      "popped_item: bar | current list: [1, 2, 3, 4, 5]\n",
      "[1, 3, 4, 5]\n",
      "popped_item: 3 | current list: [1, 4, 5]\n",
      "Part 4 ======================================\n",
      "[1, 2, 3, 4, 5, 6, 7, 8, 9]\n",
      "[[1, 2], [3, 4, 5, 6], [7, 8, 9]]\n"
     ]
    }
   ],
   "source": [
    "print(\"Part 1 ======================================\")\n",
    "L = [1,2,3,4,5]\n",
    "print(L) # prints [1,2,3,4,5]\n",
    "print(len(L)) # prints 5\n",
    "print(L[1]) # prints 2; since lists are zero-index-based\n",
    "# print(L[5]) # returns an exception; L is only up until index 4\n",
    "print(L[-1]) # this one actually works and you get 5; negative index means \"last\"\n",
    "print(L[-2]) # so this means \"2nd to the last\"; outputs 4\n",
    "# print(L[-6]) # obviously does not work\n",
    "\n",
    "print(\"Part 2 ======================================\")\n",
    "L.append(\"bar\") # can add other data types to a list consisting of ints\n",
    "print(L) # prints [1,2,3,4,5,\"bar\"]\n",
    "print(len(L)) # new size, prints 6\n",
    "\n",
    "# deletion\n",
    "print(\"Part 3 ======================================\")\n",
    "n = L.pop() # no argument; pop the last\n",
    "print('popped_item: ' + str(n) + ' | current list: ' + str(L))\n",
    "L.remove(2) # remove first instance of 2\n",
    "print(L)\n",
    "n = L.pop(1) # removes current index 1\n",
    "print('popped_item: ' + str(n) + ' | current list: ' + str(L))\n",
    "\n",
    "# list of lists (either same or varying lengths)\n",
    "print(\"Part 4 ======================================\")\n",
    "L1 = [1,2]\n",
    "L2 = [3,4,5,6]\n",
    "L3 = [7,8,9]\n",
    "new_list = L1 + L2 + L3 # list concatenation; outputs [1,2,3,4,5,6,7,8,9]\n",
    "another_new_list = [L1, L2, L3] # list of lists; output [[1, 2], [3, 4, 5, 6], [7, 8, 9]]\n",
    "print(new_list)\n",
    "print(another_new_list)"
   ]
  },
  {
   "cell_type": "markdown",
   "metadata": {},
   "source": [
    "### 3. Tuples\n",
    "\n",
    "* Lists are mutable but tuples are not\n",
    "* Lists can expand but tuples cannot\n",
    "* Tuples are slightly faster\n",
    "\n",
    "Here are some examples of usage:"
   ]
  },
  {
   "cell_type": "code",
   "execution_count": 22,
   "metadata": {},
   "outputs": [
    {
     "name": "stdout",
     "output_type": "stream",
     "text": [
      "30\n",
      "(10, 20, 30, 40)\n"
     ]
    }
   ],
   "source": [
    "t = (10, 20, 30)\n",
    "print(t[2]) # prints 30\n",
    "\n",
    "# Here's a trick to add elements to your tuple\n",
    "# Suppose you want to add 40 to the end of t to make it a 4-tuple\n",
    "t2 = t + (40,)\n",
    "print(t2)"
   ]
  },
  {
   "cell_type": "markdown",
   "metadata": {},
   "source": [
    "### 4. Dicitonaries\n",
    "\n",
    "* Consists of key-value pairs\n",
    "* Keys have to be unique\n",
    "* Can access a dictionary's value based on the supplied key."
   ]
  },
  {
   "cell_type": "code",
   "execution_count": 29,
   "metadata": {},
   "outputs": [
    {
     "name": "stdout",
     "output_type": "stream",
     "text": [
      "{'last_name': 'Doe', 'salary': 15000, 'married': True}\n",
      "{'last_name': 'Doe', 'salary': 15000, 'married': True, 10: 'c'}\n",
      "{'last_name': 'Doe', 'salary': 15000, 'married': True, 10: 'j'}\n",
      "15000\n",
      "None\n",
      "{'last_name': 'Doe', 'salary': 15000, 'married': True}\n",
      "{'john': {'last_name': 'Doe', 'salary': 15000, 'married': True}, 'jane': {'last_name': 'Doe', 'salary': 25000, 'married': True}, 'mary': {'last_name': 'Smith', 'salary': 13000, 'married': False}, 'alex': {'last_name': 'Monroe', 'salary': 17500, 'married': True}}\n"
     ]
    }
   ],
   "source": [
    "# Example of a dictionary with the attributes of an employee in a company\n",
    "# Values can have varying data types\n",
    "# Keys do not necessarily have to be a string\n",
    "john_dict = {'last_name': 'Doe', 'salary': 15000, 'married': True}\n",
    "print(john_dict)\n",
    "\n",
    "# add K-V pairs to a dict\n",
    "john_dict[10] = 'c'\n",
    "print(john_dict)\n",
    "john_dict[10] = 'j' # key 10 already exists so simply replace the current value\n",
    "print(john_dict)\n",
    "\n",
    "# accessing a value\n",
    "print(john_dict['salary']) # outputs 15000\n",
    "# print(john_dict['age']) # returns an exception since 'age' is not a key in the dict\n",
    "print(john_dict.get('age')) # more safer; returns None if it can't find the key\n",
    "\n",
    "# deleting a K-V pair\n",
    "john_dict.pop(10) # removes the pair with key 10\n",
    "print(john_dict)\n",
    "\n",
    "# A dictionary of dictionaries\n",
    "jane_dict = {'last_name': 'Doe', 'salary': 25000, 'married': True}\n",
    "mary_dict = {'last_name': 'Smith', 'salary': 13000, 'married': False}\n",
    "alex_dict = {'last_name': 'Monroe', 'salary': 17500, 'married': True}\n",
    "employees_dict = {\n",
    "\t'john': john_dict,\n",
    "\t'jane': jane_dict,\n",
    "\t'mary': mary_dict,\n",
    "\t'alex': alex_dict\n",
    "}\n",
    "print(employees_dict)"
   ]
  },
  {
   "cell_type": "markdown",
   "metadata": {},
   "source": [
    "## Control Flow\n",
    "\n",
    "### 1. Conditional Statements\n",
    "\n",
    "* Consist of ```if```, ```if/else``` or ```if/elif/else```\n",
    "* Blocks delimeted by indetation\n",
    "* Colon at the end of control flow keywords"
   ]
  },
  {
   "cell_type": "code",
   "execution_count": 30,
   "metadata": {},
   "outputs": [
    {
     "name": "stdout",
     "output_type": "stream",
     "text": [
      "Excellent\n"
     ]
    }
   ],
   "source": [
    "# Should output 'Excellent'\n",
    "grade = 95\n",
    "if grade > 90:\n",
    "\tprint('Excellent')\n",
    "elif grade > 80:\n",
    "\tprint('Average')\n",
    "elif grade > 70:\n",
    "\tprint('Passing')\n",
    "else:\n",
    "\tprint('Needs Improvement')"
   ]
  },
  {
   "cell_type": "markdown",
   "metadata": {},
   "source": [
    "## 2. Loops\n",
    "\n",
    "* There are ```for``` loop, ```while``` loop and ```for each``` loop.\n",
    "\n",
    "**Note**: There is no ```for each``` loop. Instead, we use the ```for``` loop syntax, in conjunction with the ```in``` operator.\n",
    "\n",
    "Here is an example:"
   ]
  },
  {
   "cell_type": "code",
   "execution_count": 31,
   "metadata": {},
   "outputs": [
    {
     "name": "stdout",
     "output_type": "stream",
     "text": [
      "0\n",
      "1\n",
      "2\n",
      "3\n",
      "4\n"
     ]
    }
   ],
   "source": [
    "# simple while loop\n",
    "num = 0\n",
    "while num < 5:\n",
    "\tprint(num)\n",
    "\tnum += 1"
   ]
  },
  {
   "cell_type": "code",
   "execution_count": 32,
   "metadata": {},
   "outputs": [
    {
     "name": "stdout",
     "output_type": "stream",
     "text": [
      "0\n",
      "1\n",
      "2\n",
      "3\n",
      "4\n"
     ]
    }
   ],
   "source": [
    "# this for loop does virtually the same thing\n",
    "for i in range(5): # range() here means a (0 1 2 3 4)\n",
    "\tprint(i)"
   ]
  },
  {
   "cell_type": "markdown",
   "metadata": {},
   "source": [
    "Notice that it is much significantly shorter to write. Let us now consider using the ```for each```:"
   ]
  },
  {
   "cell_type": "code",
   "execution_count": 34,
   "metadata": {},
   "outputs": [
    {
     "name": "stdout",
     "output_type": "stream",
     "text": [
      "[2, 4, 8, 16, 32]\n"
     ]
    }
   ],
   "source": [
    "# for each number in L, create an L2 which will contain the powers of 2 of each element in L\n",
    "L = [1,2,3,4,5]\n",
    "L2 = []\n",
    "for i in range(len(L)):\n",
    "\tpower = 2**L[i]\n",
    "\tL2.append(power)\n",
    "print(L2)"
   ]
  },
  {
   "cell_type": "code",
   "execution_count": 35,
   "metadata": {},
   "outputs": [
    {
     "name": "stdout",
     "output_type": "stream",
     "text": [
      "[2, 4, 8, 16, 32]\n"
     ]
    }
   ],
   "source": [
    "# here's another way to do it using foreach\n",
    "L = [1,2,3,4,5]\n",
    "L2 = []\n",
    "for item in L:\n",
    "\tpower = 2**item\n",
    "\tL2.append(power)\n",
    "print(L2)"
   ]
  },
  {
   "cell_type": "markdown",
   "metadata": {},
   "source": [
    "**Advanced programmers** can use list comprehension too. More details [here](https://www.w3schools.com/python/python_lists_comprehension.asp)"
   ]
  },
  {
   "cell_type": "code",
   "execution_count": 37,
   "metadata": {},
   "outputs": [
    {
     "name": "stdout",
     "output_type": "stream",
     "text": [
      "[2, 4, 8, 16, 32]\n"
     ]
    }
   ],
   "source": [
    "# advanced: list comprehension \n",
    "L = [1,2,3,4,5]\n",
    "L2 = [2**x for x in L]\n",
    "print(L2)"
   ]
  },
  {
   "cell_type": "markdown",
   "metadata": {},
   "source": [
    "## Functions\n",
    "\n",
    "* All variables are ```local``` unless specified as ```global```\n",
    "* Arguments are passed by value"
   ]
  },
  {
   "cell_type": "code",
   "execution_count": 38,
   "metadata": {},
   "outputs": [
    {
     "name": "stdout",
     "output_type": "stream",
     "text": [
      "107\n"
     ]
    }
   ],
   "source": [
    "def test_method(k):\n",
    "\treturn k**2 + 7\n",
    "\n",
    "print(test_method(10)) # output 107"
   ]
  },
  {
   "cell_type": "markdown",
   "metadata": {},
   "source": [
    "## Modules\n",
    "\n",
    "* Some libraries are not built-in when installing Python\n",
    "* Can import modules using ```import```; sometimes in conjunction with ```from``` depending on the scope of how much of the package you need\n",
    "* The ```*``` can be useful to denote all.\n",
    "\n",
    "**Example:** "
   ]
  },
  {
   "cell_type": "code",
   "execution_count": 39,
   "metadata": {},
   "outputs": [
    {
     "name": "stdout",
     "output_type": "stream",
     "text": [
      "1.4142135623730951\n"
     ]
    }
   ],
   "source": [
    "import math\n",
    "print(math.sqrt(2.0))"
   ]
  },
  {
   "cell_type": "code",
   "execution_count": 40,
   "metadata": {},
   "outputs": [
    {
     "name": "stdout",
     "output_type": "stream",
     "text": [
      "1.4142135623730951\n"
     ]
    }
   ],
   "source": [
    "from math import sqrt\n",
    "print (sqrt(2.0))"
   ]
  },
  {
   "cell_type": "code",
   "execution_count": 41,
   "metadata": {},
   "outputs": [
    {
     "name": "stdout",
     "output_type": "stream",
     "text": [
      "1.4142135623730951\n"
     ]
    }
   ],
   "source": [
    "from math import *\n",
    "import sys, string, math\n",
    "print (sqrt(2.0))"
   ]
  },
  {
   "cell_type": "markdown",
   "metadata": {},
   "source": [
    "## Resources\n",
    "\n",
    "* Colab: Click [here](https://colab.research.google.com/drive/1WYCdobWIcabI8ZUUfBgy8uAgSst8LBiS?usp=sharing) for some examples\n",
    "* W3Schools: Click [here](https://www.w3schools.com/python/) for some more in-depth Python tutorial\n",
    "* LearnPython: Click [here](https://www.learnpython.org/) for some more in-depth Python tutorial\n",
    "* Python docs: Click [here](https://docs.python.org/3/) for the Docs"
   ]
  },
  {
   "cell_type": "code",
   "execution_count": null,
   "metadata": {},
   "outputs": [],
   "source": []
  }
 ],
 "metadata": {
  "kernelspec": {
   "display_name": "Python 3",
   "language": "python",
   "name": "python3"
  },
  "language_info": {
   "codemirror_mode": {
    "name": "ipython",
    "version": 3
   },
   "file_extension": ".py",
   "mimetype": "text/x-python",
   "name": "python",
   "nbconvert_exporter": "python",
   "pygments_lexer": "ipython3",
   "version": "3.9.0"
  }
 },
 "nbformat": 4,
 "nbformat_minor": 4
}
